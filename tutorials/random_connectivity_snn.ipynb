{
 "cells": [
  {
   "cell_type": "markdown",
   "id": "7079112e",
   "metadata": {},
   "source": [
    "Running a scalability test with a random SNN."
   ]
  },
  {
   "cell_type": "code",
   "execution_count": 1,
   "id": "ee74fb78",
   "metadata": {},
   "outputs": [],
   "source": [
    "import time\n",
    "import random\n",
    "from superneuroabm.model import NeuromorphicModel"
   ]
  },
  {
   "cell_type": "code",
   "execution_count": 2,
   "id": "09e806cb",
   "metadata": {},
   "outputs": [],
   "source": [
    "def execute_run(graph, snn_config, n_inputs, spike_times, sim_time, use_gpu):\n",
    "\n",
    "    t_init_start = time.time()\n",
    "    model = NeuromorphicModel(use_cuda=use_gpu)\n",
    "    t_init_end = time.time()\n",
    "    t_init = t_init_end - t_init_start\n",
    "\n",
    "    t_create_start = time.time()\n",
    "\n",
    "    for _ in graph.nodes:\n",
    "        _ = model.create_neuron(\n",
    "            threshold=snn_config[\"threshold\"],\n",
    "            reset_state=snn_config[\"reset_val\"],\n",
    "            refactory_period=snn_config[\"refractory_period\"],\n",
    "        )\n",
    "        # NOTE: Typo in superneuroabm.neuron class refactory -> refractory\n",
    "\n",
    "    for edge in graph.edges:\n",
    "        # wt_val = np.random.randint(1, 5)\n",
    "        pre_neuron = edge[0]\n",
    "        post_neuron = edge[1]\n",
    "        model.create_synapse(\n",
    "            pre_neuron_id=pre_neuron,\n",
    "            post_neuron_id=post_neuron,\n",
    "            weight=snn_config[\"syn_wt\"],\n",
    "            synaptic_delay=snn_config[\"syn_delay\"],\n",
    "        )\n",
    "\n",
    "    # set the input neurons receiving external stimulus:\n",
    "    spiking_neurons = random.choices(range(len(graph.nodes)), k=n_inputs)\n",
    "\n",
    "    for n in spiking_neurons:\n",
    "        for t in spike_times:\n",
    "            model.spike(n, t, 1)\n",
    "\n",
    "    model.setup(output_buffer_len=sim_time)\n",
    "\n",
    "    t_create_end = time.time()\n",
    "    t_create = t_create_end - t_create_start\n",
    "    \n",
    "\n",
    "    t_sim_start = time.time()\n",
    "    # Simulate for sim_time steps:\n",
    "    model.simulate(ticks=sim_time, update_data_ticks=sim_time)\n",
    "    t_sim_end = time.time()\n",
    "    t_sim = t_sim_end - t_sim_start\n",
    "    \n",
    "    t_mon_start = time.time()\n",
    "    # Get spike times\n",
    "    for neuron in range(len(graph.nodes)):\n",
    "        net_spikes = model.get_spikes(neuron)\n",
    "\n",
    "    t_mon_end = time.time()\n",
    "    t_mon = t_mon_end - t_mon_start\n",
    "    \n",
    "    return t_init, t_create, t_sim, t_mon"
   ]
  },
  {
   "cell_type": "code",
   "execution_count": 3,
   "id": "be25668b",
   "metadata": {},
   "outputs": [
    {
     "name": "stderr",
     "output_type": "stream",
     "text": [
      "Simulation Progress: 100%|████████████████████████████████████████████████████████| 1.00k/1.00k [00:31<00:00, 32.2Tick/s]\n"
     ]
    },
    {
     "data": {
      "text/plain": [
       "(4.649162292480469e-05,\n",
       " 0.06945371627807617,\n",
       " 31.402495861053467,\n",
       " 0.01963949203491211)"
      ]
     },
     "execution_count": 3,
     "metadata": {},
     "output_type": "execute_result"
    }
   ],
   "source": [
    "# Loads the network onto the requested simulator and runs for the specified timesteps\n",
    "# Simulation is run for 1000ms (1000 timesteps)\n",
    "\n",
    "import numpy as np\n",
    "import networkx as nx\n",
    "\n",
    "# Define the simulation parameters:\n",
    "connection_probability = 0.5\n",
    "seed = 42\n",
    "syn_delay = 1\n",
    "syn_wt = 1.0\n",
    "threshold = 1.0\n",
    "refractory_period = 0\n",
    "reset_val = 0\n",
    "leak = 0.0\n",
    "sim_time = 1000\n",
    "spike_time_intervals = 10\n",
    "spike_times = np.arange(1.0, sim_time, spike_time_intervals)\n",
    "use_gpu = False\n",
    "\n",
    "n_neurons = 100\n",
    "n_inputs = int(0.3  * n_neurons)\n",
    "\n",
    "# Create the networkx random graph with given connection probability:\n",
    "np.random.seed(seed)\n",
    "graph = nx.binomial_graph(n_neurons, connection_probability)\n",
    "\n",
    "snn_config = {}\n",
    "snn_config[\"threshold\"] = threshold\n",
    "snn_config[\"syn_wt\"] = syn_wt\n",
    "snn_config[\"syn_delay\"] = syn_delay\n",
    "snn_config[\"refractory_period\"] = refractory_period\n",
    "snn_config[\"reset_val\"] = reset_val\n",
    "snn_config[\"leak\"] = leak\n",
    "snn_config[\"n_neurons\"] = n_neurons\n",
    "\n",
    "# Run a sample simulation:\n",
    "execute_run(\n",
    "    graph, snn_config, n_inputs, spike_times, sim_time, use_gpu\n",
    ")"
   ]
  },
  {
   "cell_type": "code",
   "execution_count": 4,
   "id": "4468826b",
   "metadata": {},
   "outputs": [
    {
     "name": "stdout",
     "output_type": "stream",
     "text": [
      "   n_neurons density init_time create_time sim_time mon_time total_time\n",
      "0        NaN     NaN       NaN         NaN      NaN      NaN        NaN\n",
      "1        NaN     NaN       NaN         NaN      NaN      NaN        NaN\n",
      "2        NaN     NaN       NaN         NaN      NaN      NaN        NaN\n",
      "3        NaN     NaN       NaN         NaN      NaN      NaN        NaN\n",
      "4        NaN     NaN       NaN         NaN      NaN      NaN        NaN\n",
      "5        NaN     NaN       NaN         NaN      NaN      NaN        NaN\n",
      "6        NaN     NaN       NaN         NaN      NaN      NaN        NaN\n",
      "7        NaN     NaN       NaN         NaN      NaN      NaN        NaN\n",
      "8        NaN     NaN       NaN         NaN      NaN      NaN        NaN\n",
      "9        NaN     NaN       NaN         NaN      NaN      NaN        NaN\n",
      "10       NaN     NaN       NaN         NaN      NaN      NaN        NaN\n",
      "11       NaN     NaN       NaN         NaN      NaN      NaN        NaN\n"
     ]
    },
    {
     "name": "stderr",
     "output_type": "stream",
     "text": [
      "Simulation Progress: 100%|████████████████████████████████████████████████████████| 1.00k/1.00k [00:25<00:00, 39.3Tick/s]\n"
     ]
    },
    {
     "name": "stdout",
     "output_type": "stream",
     "text": [
      "100 0.25 5.6743621826171875e-05 0.06421256065368652 25.82773447036743 0.019110918045043945\n"
     ]
    },
    {
     "name": "stderr",
     "output_type": "stream",
     "text": [
      "Simulation Progress: 100%|████████████████████████████████████████████████████████| 1.00k/1.00k [00:30<00:00, 33.0Tick/s]\n"
     ]
    },
    {
     "name": "stdout",
     "output_type": "stream",
     "text": [
      "100 0.5 5.6743621826171875e-05 0.06667661666870117 30.702418327331543 0.01955103874206543\n"
     ]
    },
    {
     "name": "stderr",
     "output_type": "stream",
     "text": [
      "Simulation Progress:  42%|████████████████████████▏                                 | 418/1.00k [06:06<08:30, 1.14Tick/s]Process ForkPoolWorker-16:\n",
      "Process ForkPoolWorker-19:\n",
      "Process ForkPoolWorker-17:\n",
      "Process ForkPoolWorker-18:\n",
      "Traceback (most recent call last):\n",
      "Traceback (most recent call last):\n",
      "Traceback (most recent call last):\n",
      "Traceback (most recent call last):\n",
      "  File \"/usr/lib/python3.10/multiprocessing/process.py\", line 314, in _bootstrap\n",
      "    self.run()\n",
      "  File \"/usr/lib/python3.10/multiprocessing/process.py\", line 314, in _bootstrap\n",
      "    self.run()\n",
      "  File \"/usr/lib/python3.10/multiprocessing/process.py\", line 314, in _bootstrap\n",
      "    self.run()\n",
      "  File \"/usr/lib/python3.10/multiprocessing/process.py\", line 314, in _bootstrap\n",
      "    self.run()\n",
      "  File \"/usr/lib/python3.10/multiprocessing/process.py\", line 108, in run\n",
      "    self._target(*self._args, **self._kwargs)\n",
      "  File \"/usr/lib/python3.10/multiprocessing/process.py\", line 108, in run\n",
      "    self._target(*self._args, **self._kwargs)\n",
      "  File \"/usr/lib/python3.10/multiprocessing/process.py\", line 108, in run\n",
      "    self._target(*self._args, **self._kwargs)\n",
      "  File \"/usr/lib/python3.10/multiprocessing/process.py\", line 108, in run\n",
      "    self._target(*self._args, **self._kwargs)\n",
      "  File \"/usr/lib/python3.10/multiprocessing/pool.py\", line 114, in worker\n",
      "    task = get()\n",
      "  File \"/usr/lib/python3.10/multiprocessing/pool.py\", line 114, in worker\n",
      "    task = get()\n",
      "  File \"/usr/lib/python3.10/multiprocessing/pool.py\", line 114, in worker\n",
      "    task = get()\n",
      "\n"
     ]
    },
    {
     "ename": "KeyboardInterrupt",
     "evalue": "",
     "output_type": "error",
     "traceback": [
      "\u001b[0;31m---------------------------------------------------------------------------\u001b[0m",
      "\u001b[0;31mKeyboardInterrupt\u001b[0m                         Traceback (most recent call last)",
      "Cell \u001b[0;32mIn[4], line 21\u001b[0m\n\u001b[1;32m     19\u001b[0m n_inputs \u001b[38;5;241m=\u001b[39m \u001b[38;5;28mint\u001b[39m(\u001b[38;5;241m0.3\u001b[39m\u001b[38;5;241m*\u001b[39mn)\n\u001b[1;32m     20\u001b[0m graph \u001b[38;5;241m=\u001b[39m nx\u001b[38;5;241m.\u001b[39mbinomial_graph(n, d)\n\u001b[0;32m---> 21\u001b[0m t_init, t_create, t_sim, t_mon \u001b[38;5;241m=\u001b[39m \u001b[43mexecute_run\u001b[49m\u001b[43m(\u001b[49m\n\u001b[1;32m     22\u001b[0m \u001b[43m                                    \u001b[49m\u001b[43mgraph\u001b[49m\u001b[43m,\u001b[49m\u001b[43m \u001b[49m\u001b[43msnn_config\u001b[49m\u001b[43m,\u001b[49m\u001b[43m \u001b[49m\u001b[43mn_inputs\u001b[49m\u001b[43m,\u001b[49m\u001b[43m \u001b[49m\u001b[43mspike_times\u001b[49m\u001b[43m,\u001b[49m\u001b[43m \u001b[49m\u001b[43msim_time\u001b[49m\u001b[43m,\u001b[49m\u001b[43m \u001b[49m\u001b[43muse_gpu\u001b[49m\n\u001b[1;32m     23\u001b[0m \u001b[43m                                    \u001b[49m\u001b[43m)\u001b[49m\n\u001b[1;32m     25\u001b[0m \u001b[38;5;28mprint\u001b[39m(n, d, t_init, t_create, t_sim, t_mon)\n\u001b[1;32m     26\u001b[0m df\u001b[38;5;241m.\u001b[39mloc[i,\u001b[38;5;124m'\u001b[39m\u001b[38;5;124mn_neurons\u001b[39m\u001b[38;5;124m'\u001b[39m] \u001b[38;5;241m=\u001b[39m n\n",
      "Cell \u001b[0;32mIn[2], line 44\u001b[0m, in \u001b[0;36mexecute_run\u001b[0;34m(graph, snn_config, n_inputs, spike_times, sim_time, use_gpu)\u001b[0m\n\u001b[1;32m     42\u001b[0m t_sim_start \u001b[38;5;241m=\u001b[39m time\u001b[38;5;241m.\u001b[39mtime()\n\u001b[1;32m     43\u001b[0m \u001b[38;5;66;03m# Simulate for sim_time steps:\u001b[39;00m\n\u001b[0;32m---> 44\u001b[0m \u001b[43mmodel\u001b[49m\u001b[38;5;241;43m.\u001b[39;49m\u001b[43msimulate\u001b[49m\u001b[43m(\u001b[49m\u001b[43mticks\u001b[49m\u001b[38;5;241;43m=\u001b[39;49m\u001b[43msim_time\u001b[49m\u001b[43m,\u001b[49m\u001b[43m \u001b[49m\u001b[43mupdate_data_ticks\u001b[49m\u001b[38;5;241;43m=\u001b[39;49m\u001b[43msim_time\u001b[49m\u001b[43m)\u001b[49m\n\u001b[1;32m     45\u001b[0m t_sim_end \u001b[38;5;241m=\u001b[39m time\u001b[38;5;241m.\u001b[39mtime()\n\u001b[1;32m     46\u001b[0m t_sim \u001b[38;5;241m=\u001b[39m t_sim_end \u001b[38;5;241m-\u001b[39m t_sim_start\n",
      "File \u001b[0;32m~/superneuro-evaluation/new-env/lib/python3.10/site-packages/superneuroabm/model.py:99\u001b[0m, in \u001b[0;36mNeuromorphicModel.simulate\u001b[0;34m(self, ticks, update_data_ticks, num_cpu_proc)\u001b[0m\n\u001b[1;32m     91\u001b[0m \u001b[38;5;28;01mdef\u001b[39;00m \u001b[38;5;21msimulate\u001b[39m(\n\u001b[1;32m     92\u001b[0m     \u001b[38;5;28mself\u001b[39m, ticks: \u001b[38;5;28mint\u001b[39m, update_data_ticks: \u001b[38;5;28mint\u001b[39m \u001b[38;5;241m=\u001b[39m \u001b[38;5;241m1\u001b[39m, num_cpu_proc: \u001b[38;5;28mint\u001b[39m \u001b[38;5;241m=\u001b[39m \u001b[38;5;241m4\u001b[39m\n\u001b[1;32m     93\u001b[0m ) \u001b[38;5;241m-\u001b[39m\u001b[38;5;241m>\u001b[39m \u001b[38;5;28;01mNone\u001b[39;00m:\n\u001b[1;32m     94\u001b[0m \u001b[38;5;250m    \u001b[39m\u001b[38;5;124;03m\"\"\"\u001b[39;00m\n\u001b[1;32m     95\u001b[0m \u001b[38;5;124;03m    Override of superneuroabm.core.model mainly to register an\u001b[39;00m\n\u001b[1;32m     96\u001b[0m \u001b[38;5;124;03m    AgentDataCollector to monitor marked output Neurons.\u001b[39;00m\n\u001b[1;32m     97\u001b[0m \n\u001b[1;32m     98\u001b[0m \u001b[38;5;124;03m    \"\"\"\u001b[39;00m\n\u001b[0;32m---> 99\u001b[0m     \u001b[38;5;28;43msuper\u001b[39;49m\u001b[43m(\u001b[49m\u001b[43m)\u001b[49m\u001b[38;5;241;43m.\u001b[39;49m\u001b[43msimulate\u001b[49m\u001b[43m(\u001b[49m\u001b[43mticks\u001b[49m\u001b[43m,\u001b[49m\u001b[43m \u001b[49m\u001b[43mupdate_data_ticks\u001b[49m\u001b[43m,\u001b[49m\u001b[43m \u001b[49m\u001b[43mnum_cpu_proc\u001b[49m\u001b[43m)\u001b[49m\n",
      "File \u001b[0;32m~/superneuro-evaluation/new-env/lib/python3.10/site-packages/superneuroabm/core/model.py:146\u001b[0m, in \u001b[0;36mModel.simulate\u001b[0;34m(self, ticks, update_data_ticks, num_cpu_proc)\u001b[0m\n\u001b[1;32m    144\u001b[0m                 shared_global_data_vector[\u001b[38;5;241m0\u001b[39m] \u001b[38;5;241m=\u001b[39m tick\n\u001b[1;32m    145\u001b[0m                 \u001b[38;5;28;01mfor\u001b[39;00m jobs_in_priority \u001b[38;5;129;01min\u001b[39;00m jobs:\n\u001b[0;32m--> 146\u001b[0m                     _ \u001b[38;5;241m=\u001b[39m \u001b[38;5;28;43mlist\u001b[39;49m\u001b[43m(\u001b[49m\u001b[38;5;28;43mmap\u001b[39;49m\u001b[43m(\u001b[49m\u001b[43msmap\u001b[49m\u001b[43m,\u001b[49m\u001b[43m \u001b[49m\u001b[43mjobs_in_priority\u001b[49m\u001b[43m)\u001b[49m\u001b[43m)\u001b[49m\n\u001b[1;32m    147\u001b[0m \u001b[38;5;28;01melse\u001b[39;00m:\n\u001b[1;32m    148\u001b[0m     blockspergrid \u001b[38;5;241m=\u001b[39m \u001b[38;5;28mint\u001b[39m(\n\u001b[1;32m    149\u001b[0m         math\u001b[38;5;241m.\u001b[39mceil(\n\u001b[1;32m    150\u001b[0m             \u001b[38;5;28mself\u001b[39m\u001b[38;5;241m.\u001b[39m_agent_factory\u001b[38;5;241m.\u001b[39mnum_agents \u001b[38;5;241m/\u001b[39m Model\u001b[38;5;241m.\u001b[39mTHREADSPERBLOCK\n\u001b[1;32m    151\u001b[0m         )\n\u001b[1;32m    152\u001b[0m     )\n",
      "File \u001b[0;32m~/superneuro-evaluation/new-env/lib/python3.10/site-packages/superneuroabm/core/model.py:175\u001b[0m, in \u001b[0;36msmap\u001b[0;34m(func_args)\u001b[0m\n\u001b[1;32m    174\u001b[0m \u001b[38;5;28;01mdef\u001b[39;00m \u001b[38;5;21msmap\u001b[39m(func_args):\n\u001b[0;32m--> 175\u001b[0m     \u001b[38;5;28;01mreturn\u001b[39;00m \u001b[43mfunc_args\u001b[49m\u001b[43m[\u001b[49m\u001b[38;5;241;43m0\u001b[39;49m\u001b[43m]\u001b[49m\u001b[43m(\u001b[49m\u001b[38;5;241;43m*\u001b[39;49m\u001b[43mfunc_args\u001b[49m\u001b[43m[\u001b[49m\u001b[38;5;241;43m1\u001b[39;49m\u001b[43m]\u001b[49m\u001b[43m)\u001b[49m\n",
      "File \u001b[0;32m~/superneuro-evaluation/new-env/lib/python3.10/site-packages/superneuroabm/neuron.py:32\u001b[0m, in \u001b[0;36mneuron_step_func\u001b[0;34m(global_data_vector, breeds, thresholds, reset_states, leaks, refactory_periods, output_synapsess, t_elapses, internal_state, neuron_delay_regs, input_spikess, output_spikess, my_idx)\u001b[0m\n\u001b[1;32m     29\u001b[0m \u001b[38;5;66;03m# Otherwise update Vm, etc\u001b[39;00m\n\u001b[1;32m     30\u001b[0m \u001b[38;5;66;03m# Update Vm with the input spikes if any:\u001b[39;00m\n\u001b[1;32m     31\u001b[0m \u001b[38;5;28;01mfor\u001b[39;00m spike \u001b[38;5;129;01min\u001b[39;00m input_spikess[my_idx]:\n\u001b[0;32m---> 32\u001b[0m     \u001b[38;5;28;01mif\u001b[39;00m spike[\u001b[38;5;241m0\u001b[39m] \u001b[38;5;241m==\u001b[39m t_current:\n\u001b[1;32m     33\u001b[0m         internal_state[my_idx] \u001b[38;5;241m+\u001b[39m\u001b[38;5;241m=\u001b[39m spike[\u001b[38;5;241m1\u001b[39m]\n\u001b[1;32m     34\u001b[0m internal_state[my_idx] \u001b[38;5;241m-\u001b[39m\u001b[38;5;241m=\u001b[39m leaks[my_idx]\n",
      "\u001b[0;31mKeyboardInterrupt\u001b[0m: "
     ]
    }
   ],
   "source": [
    "import numpy as np\n",
    "import pandas as pd\n",
    "\n",
    "# Compare the scalability performance:\n",
    "neurons = [100, 1000]\n",
    "density = [0.25, 0.5]\n",
    "\n",
    "tests = 3\n",
    "seeds = [np.random.randint(0, 100000000) for i in range(tests)]\n",
    "\n",
    "df = pd.DataFrame(columns = ['n_neurons', 'density', 'init_time', 'create_time', 'sim_time', 'mon_time', 'total_time'],\n",
    "        index = [i for i in range(tests*len(neurons)*len(density))])\n",
    "\n",
    "i=0\n",
    "for t in range(tests):\n",
    "    for n in neurons:\n",
    "        for d in density:\n",
    "            n_inputs = int(0.3*n)\n",
    "            graph = nx.binomial_graph(n, d)\n",
    "            t_init, t_create, t_sim, t_mon = execute_run(\n",
    "                                                graph, snn_config, n_inputs, spike_times, sim_time, use_gpu\n",
    "                                                )\n",
    "            \n",
    "            print(n, d, t_init, t_create, t_sim, t_mon)\n",
    "            df.loc[i,'n_neurons'] = n\n",
    "            df.loc[i,'density'] = d\n",
    "            df.loc[i,'init_time'] = t_init\n",
    "            df.loc[i,'create_time'] = t_create\n",
    "            df.loc[i,'sim_time'] = t_sim\n",
    "            df.loc[i,'mon_time'] = t_mon\n",
    "            df.loc[i,'total_time'] = t_init + t_create + t_sim + t_mon\n",
    "            i+=1\n",
    "           "
   ]
  },
  {
   "cell_type": "code",
   "execution_count": null,
   "id": "903f00ce",
   "metadata": {},
   "outputs": [],
   "source": [
    "display(df)"
   ]
  }
 ],
 "metadata": {
  "kernelspec": {
   "display_name": "Python 3 (ipykernel)",
   "language": "python",
   "name": "python3"
  },
  "language_info": {
   "codemirror_mode": {
    "name": "ipython",
    "version": 3
   },
   "file_extension": ".py",
   "mimetype": "text/x-python",
   "name": "python",
   "nbconvert_exporter": "python",
   "pygments_lexer": "ipython3",
   "version": "3.10.6"
  }
 },
 "nbformat": 4,
 "nbformat_minor": 5
}
