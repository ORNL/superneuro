{
 "cells": [
  {
   "cell_type": "markdown",
   "id": "c9d9ead5",
   "metadata": {},
   "source": [
    "Solving classification using SuperNeuroMAT and Scikit-learn module."
   ]
  },
  {
   "cell_type": "code",
   "execution_count": 2,
   "id": "fdab3a9f",
   "metadata": {},
   "outputs": [],
   "source": [
    "import numpy as np\n",
    "import matplotlib.pyplot as plt\n",
    "from sklearn.datasets import load_digits\n",
    "from sklearn.model_selection import train_test_split\n",
    "from superneuromat.neuromorphicmodel import NeuromorphicModel\n",
    "#import neuromorphicmodel\n",
    "#from neuromorphicmodel import NeuromorphicModel"
   ]
  },
  {
   "cell_type": "code",
   "execution_count": null,
   "id": "0a0d42cb",
   "metadata": {},
   "outputs": [],
   "source": []
  }
 ],
 "metadata": {
  "kernelspec": {
   "display_name": "Python 3 (ipykernel)",
   "language": "python",
   "name": "python3"
  },
  "language_info": {
   "codemirror_mode": {
    "name": "ipython",
    "version": 3
   },
   "file_extension": ".py",
   "mimetype": "text/x-python",
   "name": "python",
   "nbconvert_exporter": "python",
   "pygments_lexer": "ipython3",
   "version": "3.10.6"
  }
 },
 "nbformat": 4,
 "nbformat_minor": 5
}
