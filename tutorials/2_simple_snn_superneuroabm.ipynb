{
 "cells": [
  {
   "cell_type": "markdown",
   "id": "662e6a3c",
   "metadata": {},
   "source": [
    "The first example of using the Agent Based Modeling (ABM) mechanism of SuperNeuro, called SuperNeuroABM. Here, we will create a simple network of three neurons, an input, a hidden and an output neuron, connected in a feedforward manner. We will apply input spikes to neuron 0, and observe spikes from all the neurons in the network."
   ]
  },
  {
   "cell_type": "code",
   "execution_count": 3,
   "id": "7ee2f6fb",
   "metadata": {},
   "outputs": [],
   "source": [
    "#!pip install git+https://github.com/ORNL/superneuroabm"
   ]
  },
  {
   "cell_type": "code",
   "execution_count": 4,
   "id": "a353370a",
   "metadata": {},
   "outputs": [],
   "source": [
    "from superneuroabm.model import NeuromorphicModel"
   ]
  },
  {
   "cell_type": "code",
   "execution_count": 12,
   "id": "366e4546",
   "metadata": {},
   "outputs": [],
   "source": [
    "# Configure the simulation parameters:\n",
    "sim_time = 100\n",
    "neuron_threshold = 1.0\n",
    "neuron_reset = -1.0\n",
    "neuron_refractory = 1.0\n",
    "\n",
    "\n",
    "snn_model = NeuromorphicModel(use_cuda=True)\n",
    "\n",
    "neuron_in = snn_model.create_neuron(\n",
    "            threshold=neuron_threshold,\n",
    "            reset_state=neuron_reset,\n",
    "            refactory_period=neuron_refractory,     # TODO: Chathika - It should be 'refractory'\n",
    "            )\n",
    "\n",
    "# Hidden Layer neuron:\n",
    "neuron_h = snn_model.create_neuron(\n",
    "            threshold=neuron_threshold,\n",
    "            reset_state=neuron_reset,\n",
    "            refactory_period=neuron_refractory,\n",
    "            )\n",
    "\n",
    "# Output neuron:\n",
    "neuron_o = snn_model.create_neuron(\n",
    "            threshold=neuron_threshold,\n",
    "            reset_state=neuron_reset,\n",
    "            refactory_period=neuron_refractory,\n",
    "            )\n",
    "\n",
    "# Create Synpase:\n",
    "snn_model.create_synapse(neuron_in, neuron_h, \n",
    "            synaptic_delay = 2,\n",
    "            weight = 4,\n",
    "        )\n",
    "\n",
    "snn_model.create_synapse(neuron_h, neuron_o,    # TODO: Chathika can you check why the neuron_h spikes are not available at end of simulation\n",
    "            synaptic_delay = 3,                  \n",
    "            weight = 2,\n",
    "        )\n"
   ]
  },
  {
   "cell_type": "code",
   "execution_count": 13,
   "id": "212b1e09",
   "metadata": {},
   "outputs": [
    {
     "name": "stderr",
     "output_type": "stream",
     "text": [
      "/home/8hk/superneuro-evaluation/new-env/lib/python3.10/site-packages/numba/cuda/compiler.py:726: NumbaPerformanceWarning: Grid size (1) < 2 * SM count (60) will likely result in GPU under utilization due to low occupancy.\n",
      "  warn(NumbaPerformanceWarning(msg))\n"
     ]
    }
   ],
   "source": [
    "# Apply Spikes:\n",
    "snn_model.spike(neuron_in, 0, 2)    # (node_id, spike_time, spike_value)\n",
    "snn_model.spike(neuron_in, 10, 4)\n",
    "\n",
    "# Add the input spikes to the common list:\n",
    "network_spikes = []\n",
    "network_spikes.append([0, 10])\n",
    "\n",
    "# Setup the model\n",
    "snn_model.setup()\n",
    "\n",
    "#Begin simulation:\n",
    "snn_model.simulate(ticks=sim_time, update_data_ticks=1)"
   ]
  },
  {
   "cell_type": "code",
   "execution_count": 14,
   "id": "7d3c148b",
   "metadata": {},
   "outputs": [
    {
     "name": "stdout",
     "output_type": "stream",
     "text": [
      "[0, 10] [] []\n",
      "0 1 2\n"
     ]
    }
   ],
   "source": [
    "# Monitor the output spikes from all neurons:\n",
    "out_spikes = snn_model.get_spikes(neuron_o)\n",
    "h_spikes = snn_model.get_spikes(neuron_h)\n",
    "in_spikes = snn_model.get_spikes(neuron_in)\n",
    "\n",
    "print(in_spikes, h_spikes, out_spikes)\n",
    "print(neuron_in, neuron_h, neuron_o)"
   ]
  },
  {
   "cell_type": "code",
   "execution_count": 15,
   "id": "a9122918",
   "metadata": {},
   "outputs": [
    {
     "name": "stdout",
     "output_type": "stream",
     "text": [
      "[[0, 10], [0, 10], [], []]\n"
     ]
    },
    {
     "data": {
      "image/png": "[encoded data removed]",
      "text/plain": [
       "<Figure size 1000x500 with 1 Axes>"
      ]
     },
     "metadata": {},
     "output_type": "display_data"
    }
   ],
   "source": [
    "# Plot the spike raster:\n",
    "#from superneuroabm.core.agent import *\n",
    "\n",
    "import matplotlib.pyplot as plt\n",
    "\n",
    "for n in range(3):\n",
    "    network_spikes.append(snn_model.get_spikes(n))\n",
    "print(network_spikes)\n",
    "\n",
    "colors1 = ['b', 'k', 'k', 'k']  #Input spikes in blue and network spikes in black\n",
    "fig, axs = plt.subplots(1,1,figsize=(10,5))\n",
    "axs.eventplot(network_spikes,colors=colors1,lineoffsets=1,linelengths=0.1,linewidths=2.0)\n",
    "plt.title('Spike Raster')\n",
    "plt.xlabel('Timesteps')\n",
    "plt.ylabel('Neuron index')\n",
    "plt.tight_layout()\n",
    "#plt.gca().invert_yaxis()"
   ]
  },
  {
   "cell_type": "code",
   "execution_count": null,
   "id": "ca2addb9",
   "metadata": {},
   "outputs": [],
   "source": []
  }
 ],
 "metadata": {
  "kernelspec": {
   "display_name": "Python 3 (ipykernel)",
   "language": "python",
   "name": "python3"
  },
  "language_info": {
   "codemirror_mode": {
    "name": "ipython",
    "version": 3
   },
   "file_extension": ".py",
   "mimetype": "text/x-python",
   "name": "python",
   "nbconvert_exporter": "python",
   "pygments_lexer": "ipython3",
   "version": "3.10.6"
  }
 },
 "nbformat": 4,
 "nbformat_minor": 5
}
