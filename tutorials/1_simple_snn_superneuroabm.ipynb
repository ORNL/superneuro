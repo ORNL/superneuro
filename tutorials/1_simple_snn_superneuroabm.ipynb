{
 "cells": [
  {
   "cell_type": "markdown",
   "id": "093fcdcc-37ac-4f93-ba44-13ed243b26f5",
   "metadata": {},
   "source": [
    "<h1>\n",
    "Introduction to SuperNeuroABM\n",
    "</h1>\n",
    "<p>\n",
    "    SuperNeuroABM is a pure-Python Agent-Based Modeling (ABM) software for training spiking neural networks (SNN). ABM is a popular modeling technique for simulating complex adaptive systems. SuperNeuroABM takes a complex adaptive systems perspective to simulating SNNs by modeling neurons as autonomous agents. This approach has proven to be advantagous by allowing for easier parallelism and stronger scaling through GPU computing and allowing the AI practioner to specify multiple breeds of neuron and synapse mechanisms within a single SNN for heterogenous simulations.\n",
    "</p>\n",
    "<p>\n",
    "    SuperNeuroABM provides both CPU and GPU support. In GPU mode, neuron properties are convereted to agent data tensors that are distributed across GPU threads using Numba. Each agent is processed by a single GPU thread, which executes the neuronal and synaptic step functions. \n",
    "</p>\n",
    "<div>\n",
    "    <img src=\"img/systemoverview.png\" width=\"1000\" alt=\"System Overview\" />\n",
    "</div>"
   ]
  },
  {
   "cell_type": "markdown",
   "id": "662e6a3c",
   "metadata": {},
   "source": [
    "SuperNeuroABM can be installed from pypi.org using `pip`"
   ]
  },
  {
   "cell_type": "code",
   "execution_count": 2,
   "id": "7ee2f6fb",
   "metadata": {},
   "outputs": [
    {
     "name": "stdout",
     "output_type": "stream",
     "text": [
      "Found existing installation: SuperNeuroABM 0.2.0\n",
      "Uninstalling SuperNeuroABM-0.2.0:\n",
      "  Successfully uninstalled SuperNeuroABM-0.2.0\n",
      "Collecting superneuroabm\n",
      "  Downloading SuperNeuroABM-0.2.0-py3-none-any.whl (12 kB)\n",
      "Requirement already satisfied: numba==0.55.1 in /home/co1/miniconda3/envs/superneuro_release/lib/python3.9/site-packages (from superneuroabm) (0.55.1)\n",
      "Requirement already satisfied: numpy==1.21.6 in /home/co1/miniconda3/envs/superneuro_release/lib/python3.9/site-packages (from superneuroabm) (1.21.6)\n",
      "Requirement already satisfied: tqdm==4.64.1 in /home/co1/miniconda3/envs/superneuro_release/lib/python3.9/site-packages (from superneuroabm) (4.64.1)\n",
      "Requirement already satisfied: llvmlite<0.39,>=0.38.0rc1 in /home/co1/miniconda3/envs/superneuro_release/lib/python3.9/site-packages (from numba==0.55.1->superneuroabm) (0.38.1)\n",
      "Requirement already satisfied: setuptools in /home/co1/miniconda3/envs/superneuro_release/lib/python3.9/site-packages (from numba==0.55.1->superneuroabm) (67.8.0)\n",
      "Installing collected packages: superneuroabm\n",
      "Successfully installed superneuroabm-0.2.0\n"
     ]
    }
   ],
   "source": [
    "!pip uninstall -y superneuroabm\n",
    "!pip install superneuroabm\n",
    "#!pip install matplotlib #Uncomment if your system does not have matplotlib installed"
   ]
  },
  {
   "cell_type": "markdown",
   "id": "fc68ab68-fc69-4724-b849-f490c5ad26a9",
   "metadata": {},
   "source": [
    "Import the `NeuromorhpicModel` class from `superneuroabm.model`"
   ]
  },
  {
   "cell_type": "code",
   "execution_count": 3,
   "id": "a353370a",
   "metadata": {},
   "outputs": [],
   "source": [
    "from superneuroabm.model import NeuromorphicModel"
   ]
  },
  {
   "cell_type": "markdown",
   "id": "8279e1e9-ddb6-45db-b428-2963b64d89ea",
   "metadata": {},
   "source": [
    "<p>\n",
    "    First, we will model a 3-neuron architecture that includes an input neuron, hidden neuron, and output neuron as shown in the figure below. \n",
    "    Each neuron will have a threshold of 1.0, reset state of -1.0, and refractory period of 1.0.\n",
    "</p>\n",
    "<p>\n",
    "    These neurons will be connected by two synapses with weights of 4 and 2 and synaptic delays of 2 and 3, respectively.\n",
    "</p>\n",
    "\n",
    "<div>\n",
    "    <img src=\"img/neuralnetworkarchitecture.png\" width=\"500\" alt=\"SNN architecture\" />\n",
    "</div>"
   ]
  },
  {
   "cell_type": "code",
   "execution_count": 4,
   "id": "366e4546",
   "metadata": {},
   "outputs": [
    {
     "name": "stdout",
     "output_type": "stream",
     "text": [
      "{'input': 0, 'hidden': 1, 'output': 2}\n"
     ]
    }
   ],
   "source": [
    "neuron_threshold = 1.0\n",
    "neuron_reset = -1.0\n",
    "neuron_refractory = 1.0\n",
    "\n",
    "\n",
    "snn_model = NeuromorphicModel(use_cuda=False)\n",
    "\n",
    "neurons = {\"input\": None, \"hidden\": None, \"output\": None}\n",
    "\n",
    "for neuron_name in neurons.keys():\n",
    "    neurons[neuron_name] = snn_model.create_neuron(\n",
    "        threshold=neuron_threshold,\n",
    "        reset_state=neuron_reset,\n",
    "        refractory_period=neuron_refractory,\n",
    "    )\n",
    "\n",
    "print(neurons)"
   ]
  },
  {
   "cell_type": "code",
   "execution_count": 5,
   "id": "3e7f7ea9-5f17-4ab2-97f4-6c57c041832b",
   "metadata": {},
   "outputs": [],
   "source": [
    "snn_model.create_synapse(neurons[\"input\"], neurons[\"hidden\"], \n",
    "            synaptic_delay = 2,\n",
    "            weight = 4,\n",
    "        )\n",
    "\n",
    "snn_model.create_synapse(neurons[\"hidden\"], neurons[\"output\"],\n",
    "            synaptic_delay = 3,                  \n",
    "            weight = 2,\n",
    "        )"
   ]
  },
  {
   "cell_type": "markdown",
   "id": "221c7363-0b7a-4202-8fac-01f8df89b1a3",
   "metadata": {},
   "source": [
    "Next, we will apply input spikes to the input neuron at times 0 and 10 with intensities 2 and 4, respectively."
   ]
  },
  {
   "cell_type": "code",
   "execution_count": 7,
   "id": "212b1e09",
   "metadata": {},
   "outputs": [],
   "source": [
    "input_spikes = {0: 2, 10: 4} # time -> intensity pairs\n",
    "# Apply Spikes:\n",
    "for spike_time in input_spikes:\n",
    "    snn_model.spike(neuron_id = neurons[\"input\"], tick = spike_time, value = input_spikes[spike_time])"
   ]
  },
  {
   "cell_type": "markdown",
   "id": "03789134-194b-4497-ac54-a4b77631ce8c",
   "metadata": {},
   "source": [
    "Now we can setup and run the simulation. We will execute the simulation for 100 time steps"
   ]
  },
  {
   "cell_type": "code",
   "execution_count": 8,
   "id": "24467dd5-fb1f-48e4-b13a-548912a75fb9",
   "metadata": {},
   "outputs": [
    {
     "name": "stderr",
     "output_type": "stream",
     "text": [
      "Simulation Progress: 100%|█████████████████████████████████████████████████████████████████████████████████████████████████████████████████████████████████████████████████████| 100/100 [00:00<00:00, 1.95kTick/s]\n"
     ]
    }
   ],
   "source": [
    "sim_time = 100\n",
    "# Setup the model\n",
    "# Using output_buffer_len = sim_time so that spikes are tracked for entire simulation\n",
    "snn_model.setup(output_buffer_len = sim_time)\n",
    "\n",
    "#Begin simulation:\n",
    "snn_model.simulate(ticks=sim_time, update_data_ticks=1)"
   ]
  },
  {
   "cell_type": "markdown",
   "id": "e36edae9-f9ef-4db2-9907-225b0f9dd9b9",
   "metadata": {},
   "source": [
    "Simulation complete! Now we can query the spike times of our neurons using `get_spikes(...)`"
   ]
  },
  {
   "cell_type": "code",
   "execution_count": 9,
   "id": "7d3c148b",
   "metadata": {},
   "outputs": [
    {
     "name": "stdout",
     "output_type": "stream",
     "text": [
      "input neuron spike times: [0, 10]\n",
      "input neuron spike times: [2, 12]\n",
      "input neuron spike times: [5]\n"
     ]
    }
   ],
   "source": [
    "# Monitor the output spikes from all neurons:\n",
    "input_spike_times = snn_model.get_spikes(neuron_id = neurons[\"input\"])\n",
    "hidden_spike_times = snn_model.get_spikes(neuron_id = neurons[\"hidden\"])\n",
    "output_spike_times = snn_model.get_spikes(neuron_id = neurons[\"output\"])\n",
    "\n",
    "print(f\"input neuron spike times: {input_spike_times}\")\n",
    "print(f\"input neuron spike times: {hidden_spike_times}\")\n",
    "print(f\"input neuron spike times: {output_spike_times}\")"
   ]
  },
  {
   "cell_type": "markdown",
   "id": "55020c9b-a08f-4711-a334-f06700aa5e01",
   "metadata": {},
   "source": [
    "Below is some code to visualize the above as a spike raster plot"
   ]
  },
  {
   "cell_type": "code",
   "execution_count": 41,
   "id": "a9122918",
   "metadata": {},
   "outputs": [
    {
     "data": {
      "image/png": "[encoded data removed]",
      "text/plain": [
       "<Figure size 1000x500 with 1 Axes>"
      ]
     },
     "metadata": {},
     "output_type": "display_data"
    }
   ],
   "source": [
    "import matplotlib.pyplot as plt\n",
    "\n",
    "network_spikes = []\n",
    "for neuron_id in neurons.values():\n",
    "    network_spikes.append(snn_model.get_spikes(neuron_id))\n",
    "\n",
    "colors1 = ['b', 'k', 'k']  #Input spikes in blue and network spikes in black\n",
    "fig, axs = plt.subplots(1,1,figsize=(10,5))\n",
    "axs.eventplot(network_spikes,colors=colors1,lineoffsets=1,linelengths=0.1,linewidths=2.0)\n",
    "axs.set_yticks(list(neurons.values()))\n",
    "axs.set_yticklabels(list(neurons.keys()))\n",
    "plt.title('Spike Raster')\n",
    "plt.xlabel('Timesteps')\n",
    "plt.ylabel('Neuron')\n",
    "plt.tight_layout()"
   ]
  },
  {
   "cell_type": "markdown",
   "id": "94f4db35-deb6-4e50-b7ed-d2c5eaf331df",
   "metadata": {},
   "source": [
    "<h1>\n",
    "    Heterogenous Mechanisms \n",
    "</h1>"
   ]
  },
  {
   "cell_type": "markdown",
   "id": "8c33c682-2a66-4e61-95de-7f5ad4ddaf6a",
   "metadata": {},
   "source": [
    "Next, we will modify the network architecture to use two neuron mechanisms instead of one. \n",
    "SuperNeuroABM lets us do this by defining breeds. A dictionary may be passed upon creation of the neuromorphic model whose keys are names of neuron breeds and values are lists of step functions that the respective breed should execute. Note the step function list should be provided in order of execution. "
   ]
  },
  {
   "cell_type": "markdown",
   "id": "d983cc0f-e776-44a6-8b55-2cec4dbc6d02",
   "metadata": {},
   "source": [
    "The architecture used is displayed in the image below\n",
    "<div>\n",
    "    <img src=\"img/neuralnetworkarchitectureSTDP.png\" width=\"600\" alt=\"SNN architecture with STDP\" />\n",
    "</div>"
   ]
  },
  {
   "cell_type": "markdown",
   "id": "116542d5-ed92-4fb0-b7e2-4d2e544709ce",
   "metadata": {},
   "source": [
    "First, we need to describe our breeds in a dictionary and use it to initialize a new model. We can use predefined step functions that SuperNeuroABM provides for this purpose"
   ]
  },
  {
   "cell_type": "code",
   "execution_count": 14,
   "id": "68e6b881-b4c6-48ab-82ac-dc16938bbf4f",
   "metadata": {},
   "outputs": [],
   "source": [
    "from superneuroabm.neuron import neuron_step_func, synapse_step_func, synapse_with_stdp_step_func\n",
    "\n",
    "neuron_breed_info = {\"LIF\": [neuron_step_func, synapse_step_func], \"LIFForwardSTDP\": [neuron_step_func, synapse_with_stdp_step_func]}\n",
    "multibreed_model = NeuromorphicModel(use_cuda=False, neuron_breed_info=neuron_breed_info)"
   ]
  },
  {
   "cell_type": "markdown",
   "id": "7435fc15-7ff2-4c6c-a96a-919e3e8ee699",
   "metadata": {},
   "source": [
    "Next let's create the three neurons. However, this time we will use the `breed` parameter to specify which breed the Neuron will belong to."
   ]
  },
  {
   "cell_type": "code",
   "execution_count": 15,
   "id": "6f67e421-06fc-4d43-ad56-a5c3cf91aea0",
   "metadata": {},
   "outputs": [],
   "source": [
    " # Create neurons\n",
    "input_0 = multibreed_model.create_neuron(\n",
    "    breed=\"LIF\", threshold=0.0\n",
    ")\n",
    "input_1 = multibreed_model.create_neuron(breed=\"LIFForwardSTDP\", threshold=0.0)\n",
    "output_2 = multibreed_model.create_neuron(breed=\"LIF\", threshold=1.0)\n",
    "\n",
    "# Create synapses\n",
    "multibreed_model.create_synapse(\n",
    "    pre_neuron_id=input_0, post_neuron_id=output_2, weight=4, synaptic_delay = 5,\n",
    ")\n",
    "multibreed_model.create_synapse(\n",
    "    pre_neuron_id=input_1, post_neuron_id=output_2, weight=2, synaptic_delay = 3,\n",
    ")"
   ]
  },
  {
   "cell_type": "markdown",
   "id": "fce7f287-f6f1-4e57-b62a-bc4c0ddfddf5",
   "metadata": {},
   "source": [
    "Next, let's add spikes to the model and simulate"
   ]
  },
  {
   "cell_type": "code",
   "execution_count": 18,
   "id": "d945eaca-fb29-4a30-a666-e212b9a095d1",
   "metadata": {},
   "outputs": [
    {
     "name": "stderr",
     "output_type": "stream",
     "text": [
      "Simulation Progress: 100%|█████████████████████████████████████████████████████████████████████████████████████████████████████████████████████████████████████████████████████| 100/100 [00:00<00:00, 2.36kTick/s]\n"
     ]
    }
   ],
   "source": [
    "input_spikes = {\n",
    "    3: [\n",
    "        (input_1, 1),\n",
    "    ],\n",
    "    5: [\n",
    "        (input_0, 1),\n",
    "    ],\n",
    "    7: [\n",
    "        (input_0, 1),\n",
    "        (input_1, 1),\n",
    "    ],\n",
    "} # time -> (neuron_id, intensity)\n",
    "for time in input_spikes:\n",
    "    for neuron, value in input_spikes[time]:\n",
    "        multibreed_model.spike(neuron_id=neuron, tick=time, value=value)\n",
    "\n",
    "# Setup and simulate\n",
    "multibreed_model.setup(output_buffer_len=sim_time)\n",
    "multibreed_model.simulate(ticks=sim_time, update_data_ticks=1)"
   ]
  },
  {
   "cell_type": "markdown",
   "id": "d7098907-4b5c-4f00-9b32-66cff64a3964",
   "metadata": {},
   "source": [
    "Finally, we can get the weights of the synapses using `get_synapse_weight`. We'll see that synapse input_0 -> output did not change, while STDP modified the weight of synapse input_1 -> output. "
   ]
  },
  {
   "cell_type": "code",
   "execution_count": 19,
   "id": "17675e50-d988-4c28-a952-f7ac20f4a885",
   "metadata": {},
   "outputs": [
    {
     "name": "stdout",
     "output_type": "stream",
     "text": [
      "Weight of synapse input 0 -> output 4.0\n",
      "Weight of synapse input 1 -> output 450.97286867893445\n"
     ]
    }
   ],
   "source": [
    "w_input_0_output = multibreed_model.get_synapse_weight(0,2)\n",
    "w_input_1_output = multibreed_model.get_synapse_weight(1,2)\n",
    "\n",
    "print(f\"Weight of synapse input 0 -> output {w_input_0_output}\")\n",
    "print(f\"Weight of synapse input 1 -> output {w_input_1_output}\")"
   ]
  },
  {
   "cell_type": "code",
   "execution_count": 42,
   "id": "a9cc5875-03c5-4eb8-b1d0-5ea9986b1b1b",
   "metadata": {},
   "outputs": [
    {
     "data": {
      "image/png": "[encoded data removed]",
      "text/plain": [
       "<Figure size 1000x500 with 1 Axes>"
      ]
     },
     "metadata": {},
     "output_type": "display_data"
    }
   ],
   "source": [
    "import matplotlib.pyplot as plt\n",
    "\n",
    "network_spikes = []\n",
    "for neuron_id in neurons.values():\n",
    "    network_spikes.append(list(multibreed_model.get_spikes(neuron_id)))\n",
    "\n",
    "colors1 = ['b', 'b', 'k']  #Input spikes in blue and network spikes in black\n",
    "fig, axs = plt.subplots(1,1,figsize=(10,5))\n",
    "axs.eventplot(network_spikes,colors=colors1,lineoffsets=1,linelengths=0.1,linewidths=2.0)\n",
    "axs.set_yticks([0, 1, 2])\n",
    "axs.set_yticklabels(['input_0', 'input_1', 'output'])\n",
    "plt.title('Spike Raster')\n",
    "plt.xlabel('Timesteps')\n",
    "plt.ylabel('Neuron')\n",
    "plt.tight_layout()"
   ]
  },
  {
   "cell_type": "markdown",
   "id": "90fa82cb-0c6e-41a2-91a4-308ebe9cd13c",
   "metadata": {},
   "source": [
    "Writing your own step functions is out of scope for this tutorial. Examples of what these step functions should look like are provided here: https://github.com/ORNL/superneuroabm/blob/main/superneuroabm/neuron.py"
   ]
  }
 ],
 "metadata": {
  "kernelspec": {
   "display_name": "superneuro_release",
   "language": "python",
   "name": "superneuro_release"
  },
  "language_info": {
   "codemirror_mode": {
    "name": "ipython",
    "version": 3
   },
   "file_extension": ".py",
   "mimetype": "text/x-python",
   "name": "python",
   "nbconvert_exporter": "python",
   "pygments_lexer": "ipython3",
   "version": "3.9.16"
  }
 },
 "nbformat": 4,
 "nbformat_minor": 5
}
