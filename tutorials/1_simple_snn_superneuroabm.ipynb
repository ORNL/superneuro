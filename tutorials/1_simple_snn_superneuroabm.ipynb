{
 "cells": [
  {
   "cell_type": "markdown",
   "id": "662e6a3c",
   "metadata": {},
   "source": [
    "The first example of using the Agent Based Modeling (ABM) mechanism of SuperNeuro, called SuperNeuroABM. Here, we will create a simple network of three neurons, an input, a hidden and an output neuron, connected in a feedforward manner. We will apply input spikes to neuron 0, and observe spikes from all the neurons in the network."
   ]
  },
  {
   "cell_type": "code",
   "execution_count": 1,
   "id": "7ee2f6fb",
   "metadata": {},
   "outputs": [],
   "source": [
    "#!pip uninstall -y superneuroabm\n",
    "#!pip install git+https://github.com/ornl/superneuroabm@dev\n",
    "#!pip install matplotlib"
   ]
  },
  {
   "cell_type": "code",
   "execution_count": 2,
   "id": "a353370a",
   "metadata": {},
   "outputs": [],
   "source": [
    "from superneuroabm.model import NeuromorphicModel"
   ]
  },
  {
   "cell_type": "code",
   "execution_count": 3,
   "id": "366e4546",
   "metadata": {},
   "outputs": [
    {
     "name": "stdout",
     "output_type": "stream",
     "text": [
      "{'input': 0, 'hidden': 1, 'output': 2}\n"
     ]
    }
   ],
   "source": [
    "# Configure the simulation parameters:\n",
    "sim_time = 100\n",
    "neuron_threshold = 1.0\n",
    "neuron_reset = -1.0\n",
    "neuron_refractory = 1.0\n",
    "\n",
    "\n",
    "snn_model = NeuromorphicModel(use_cuda=True)\n",
    "\n",
    "neurons = {\"input\": None, \"hidden\": None, \"output\": None}\n",
    "\n",
    "for neuron_name in neurons.keys():\n",
    "    neurons[neuron_name] = snn_model.create_neuron(\n",
    "        threshold=neuron_threshold,\n",
    "        reset_state=neuron_reset,\n",
    "        refractory_period=neuron_refractory,\n",
    "    )\n",
    "\n",
    "print(neurons)"
   ]
  },
  {
   "cell_type": "code",
   "execution_count": 4,
   "id": "3e7f7ea9-5f17-4ab2-97f4-6c57c041832b",
   "metadata": {},
   "outputs": [],
   "source": [
    "# Create Synpase:\n",
    "snn_model.create_synapse(neurons[\"input\"], neurons[\"hidden\"], \n",
    "            synaptic_delay = 5,\n",
    "            weight = 4,\n",
    "        )\n",
    "\n",
    "snn_model.create_synapse(neurons[\"hidden\"], neurons[\"output\"],    # TODO: Chathika can you check why the neuron_h spikes are not available at end of simulation\n",
    "            synaptic_delay = 3,                  \n",
    "            weight = 2,\n",
    "        )"
   ]
  },
  {
   "cell_type": "code",
   "execution_count": 6,
   "id": "212b1e09",
   "metadata": {},
   "outputs": [
    {
     "name": "stderr",
     "output_type": "stream",
     "text": [
      "/home/co1/miniconda3/envs/superneuro_release/lib/python3.9/site-packages/numba/cuda/compiler.py:726: NumbaPerformanceWarning: Grid size (1) < 2 * SM count (60) will likely result in GPU under utilization due to low occupancy.\n",
      "  warn(NumbaPerformanceWarning(msg))\n"
     ]
    }
   ],
   "source": [
    "# Apply Spikes:\n",
    "snn_model.spike(neurons[\"input\"], 0, 2)    # (node_id, spike_time, spike_value)\n",
    "snn_model.spike(neurons[\"input\"], 10, 4)\n",
    "\n",
    "# Add the input spikes to the common list:\n",
    "network_spikes = []\n",
    "network_spikes.append([0, 10])\n",
    "\n",
    "# Setup the model\n",
    "snn_model.setup()\n",
    "\n",
    "#Begin simulation:\n",
    "snn_model.simulate(ticks=sim_time, update_data_ticks=1)"
   ]
  },
  {
   "cell_type": "code",
   "execution_count": 7,
   "id": "7d3c148b",
   "metadata": {},
   "outputs": [
    {
     "name": "stdout",
     "output_type": "stream",
     "text": [
      "0 1 2\n"
     ]
    }
   ],
   "source": [
    "# Monitor the output spikes from all neurons:\n",
    "in_spikes = snn_model.get_spikes(neurons[\"input\"])\n",
    "h_spikes = snn_model.get_spikes(neurons[\"hidden\"])\n",
    "out_spikes = snn_model.get_spikes(neurons[\"output\"])\n",
    "\n",
    "print(neurons[\"input\"], neurons[\"hidden\"], neurons[\"output\"])"
   ]
  },
  {
   "cell_type": "code",
   "execution_count": 9,
   "id": "a9122918",
   "metadata": {},
   "outputs": [
    {
     "ename": "TypeError",
     "evalue": "'dict_values' object cannot be interpreted as an integer",
     "output_type": "error",
     "traceback": [
      "\u001b[0;31m---------------------------------------------------------------------------\u001b[0m",
      "\u001b[0;31mTypeError\u001b[0m                                 Traceback (most recent call last)",
      "Cell \u001b[0;32mIn[9], line 6\u001b[0m\n\u001b[1;32m      1\u001b[0m \u001b[38;5;66;03m# Plot the spike raster:\u001b[39;00m\n\u001b[1;32m      2\u001b[0m \u001b[38;5;66;03m#from superneuroabm.core.agent import *\u001b[39;00m\n\u001b[1;32m      4\u001b[0m \u001b[38;5;28;01mimport\u001b[39;00m \u001b[38;5;21;01mmatplotlib\u001b[39;00m\u001b[38;5;21;01m.\u001b[39;00m\u001b[38;5;21;01mpyplot\u001b[39;00m \u001b[38;5;28;01mas\u001b[39;00m \u001b[38;5;21;01mplt\u001b[39;00m\n\u001b[0;32m----> 6\u001b[0m \u001b[38;5;28;01mfor\u001b[39;00m neuron_id \u001b[38;5;129;01min\u001b[39;00m \u001b[38;5;28;43mrange\u001b[39;49m\u001b[43m(\u001b[49m\u001b[43mneurons\u001b[49m\u001b[38;5;241;43m.\u001b[39;49m\u001b[43mvalues\u001b[49m\u001b[43m(\u001b[49m\u001b[43m)\u001b[49m\u001b[43m)\u001b[49m:\n\u001b[1;32m      7\u001b[0m     network_spikes\u001b[38;5;241m.\u001b[39mappend(snn_model\u001b[38;5;241m.\u001b[39mget_spikes(neuron_id))\n\u001b[1;32m      9\u001b[0m colors1 \u001b[38;5;241m=\u001b[39m [\u001b[38;5;124m'\u001b[39m\u001b[38;5;124mb\u001b[39m\u001b[38;5;124m'\u001b[39m, \u001b[38;5;124m'\u001b[39m\u001b[38;5;124mk\u001b[39m\u001b[38;5;124m'\u001b[39m, \u001b[38;5;124m'\u001b[39m\u001b[38;5;124mk\u001b[39m\u001b[38;5;124m'\u001b[39m, \u001b[38;5;124m'\u001b[39m\u001b[38;5;124mk\u001b[39m\u001b[38;5;124m'\u001b[39m]  \u001b[38;5;66;03m#Input spikes in blue and network spikes in black\u001b[39;00m\n",
      "\u001b[0;31mTypeError\u001b[0m: 'dict_values' object cannot be interpreted as an integer"
     ]
    }
   ],
   "source": [
    "# Plot the spike raster:\n",
    "#from superneuroabm.core.agent import *\n",
    "\n",
    "import matplotlib.pyplot as plt\n",
    "\n",
    "for neuron_id in neurons.values():\n",
    "    network_spikes.append(snn_model.get_spikes(neuron_id))\n",
    "\n",
    "colors1 = ['b', 'k', 'k', 'k']  #Input spikes in blue and network spikes in black\n",
    "fig, axs = plt.subplots(1,1,figsize=(10,5))\n",
    "axs.eventplot(network_spikes,colors=colors1,lineoffsets=1,linelengths=0.1,linewidths=2.0)\n",
    "plt.title('Spike Raster')\n",
    "plt.xlabel('Timesteps')\n",
    "plt.ylabel('Neuron index')\n",
    "plt.tight_layout()\n",
    "#plt.gca().invert_yaxis()"
   ]
  },
  {
   "cell_type": "code",
   "execution_count": null,
   "id": "ca2addb9",
   "metadata": {},
   "outputs": [],
   "source": []
  },
  {
   "cell_type": "code",
   "execution_count": null,
   "id": "804cd337-4d5d-44fc-8872-3b4745ce077b",
   "metadata": {},
   "outputs": [],
   "source": []
  }
 ],
 "metadata": {
  "kernelspec": {
   "display_name": "superneuro_release",
   "language": "python",
   "name": "superneuro_release"
  },
  "language_info": {
   "codemirror_mode": {
    "name": "ipython",
    "version": 3
   },
   "file_extension": ".py",
   "mimetype": "text/x-python",
   "name": "python",
   "nbconvert_exporter": "python",
   "pygments_lexer": "ipython3",
   "version": "3.9.16"
  }
 },
 "nbformat": 4,
 "nbformat_minor": 5
}
