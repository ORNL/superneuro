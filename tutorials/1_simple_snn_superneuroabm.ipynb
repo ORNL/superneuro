{
 "cells": [
  {
   "cell_type": "markdown",
   "id": "093fcdcc-37ac-4f93-ba44-13ed243b26f5",
   "metadata": {},
   "source": [
    "<h1>\n",
    "Introduction to SuperNeuroABM\n",
    "</h1>\n",
    "<p>\n",
    "    SuperNeuroABM is a pure-Python Agent-Based Modeling (ABM) software for training spiking neural networks (SNN). ABM is a popular modeling technique for simulating complex adaptive systems. SuperNeuroABM takes a complex adaptive systems perspective to simulating SNNs by models Neurons as autonomous agents. This approach has proven to be advantagous by allowing for easier parallelism and stronger scaling through GPU computing and allowing the AI practioner to specify multiple breeds of neuron and synapse mechanisms within a single SNN for heterogenous simulations.\n",
    "    SuperNeuroABM provides both CPU and GPU support. In GPU mode, Neuron properties are convereted to agent data tensors that are distributed across GPU threads using Numba. Each agent is processed by a single GPU thread, which executes the neuronal and synaptic step functions. \n",
    "</p>\n",
    "<div>\n",
    "    <img src=\"img/systemoverview.png\" width=\"1000\" alt=\"System Overview\" />\n",
    "</div>"
   ]
  },
  {
   "cell_type": "markdown",
   "id": "662e6a3c",
   "metadata": {},
   "source": [
    "We will apply input spikes to neuron 0, and observe spikes from all the neurons in the network."
   ]
  },
  {
   "cell_type": "code",
   "execution_count": 1,
   "id": "7ee2f6fb",
   "metadata": {},
   "outputs": [
    {
     "name": "stdout",
     "output_type": "stream",
     "text": [
      "Found existing installation: SuperNeuroABM 0.1.0\n",
      "Uninstalling SuperNeuroABM-0.1.0:\n",
      "  Successfully uninstalled SuperNeuroABM-0.1.0\n",
      "Collecting git+https://github.com/ornl/superneuroabm@dev\n",
      "  Cloning https://github.com/ornl/superneuroabm (to revision dev) to /tmp/pip-req-build-9fi50kon\n",
      "  Running command git clone --filter=blob:none --quiet https://github.com/ornl/superneuroabm /tmp/pip-req-build-9fi50kon\n",
      "  Running command git checkout -b dev --track origin/dev\n",
      "  Switched to a new branch 'dev'\n",
      "  branch 'dev' set up to track 'origin/dev'.\n",
      "  Resolved https://github.com/ornl/superneuroabm to commit 7fce4106f44a7e0d782687da9876ca6a373e8375\n",
      "  Preparing metadata (setup.py) ... \u001b[?25ldone\n",
      "\u001b[?25hRequirement already satisfied: numba==0.55.1 in /home/co1/miniconda3/envs/superneuro_release/lib/python3.9/site-packages (from SuperNeuroABM==0.1.0) (0.55.1)\n",
      "Requirement already satisfied: numpy==1.21.6 in /home/co1/miniconda3/envs/superneuro_release/lib/python3.9/site-packages (from SuperNeuroABM==0.1.0) (1.21.6)\n",
      "Requirement already satisfied: tqdm==4.64.1 in /home/co1/miniconda3/envs/superneuro_release/lib/python3.9/site-packages (from SuperNeuroABM==0.1.0) (4.64.1)\n",
      "Requirement already satisfied: llvmlite<0.39,>=0.38.0rc1 in /home/co1/miniconda3/envs/superneuro_release/lib/python3.9/site-packages (from numba==0.55.1->SuperNeuroABM==0.1.0) (0.38.1)\n",
      "Requirement already satisfied: setuptools in /home/co1/miniconda3/envs/superneuro_release/lib/python3.9/site-packages (from numba==0.55.1->SuperNeuroABM==0.1.0) (67.8.0)\n",
      "Building wheels for collected packages: SuperNeuroABM\n",
      "  Building wheel for SuperNeuroABM (setup.py) ... \u001b[?25ldone\n",
      "\u001b[?25h  Created wheel for SuperNeuroABM: filename=SuperNeuroABM-0.1.0-py3-none-any.whl size=12268 sha256=cc95e8a9227e0f637c7a307c5115ab5df4fac5d8433c91260568b5ff19074574\n",
      "  Stored in directory: /tmp/pip-ephem-wheel-cache-oelvn1y8/wheels/03/22/e7/f78ff431562b280605b2af653bdb028f38af39b5ce006ef8b2\n",
      "Successfully built SuperNeuroABM\n",
      "Installing collected packages: SuperNeuroABM\n",
      "Successfully installed SuperNeuroABM-0.1.0\n"
     ]
    }
   ],
   "source": [
    "!pip uninstall -y superneuroabm\n",
    "!pip install git+https://github.com/ornl/superneuroabm@dev\n",
    "#!pip install matplotlib"
   ]
  },
  {
   "cell_type": "code",
   "execution_count": 2,
   "id": "a353370a",
   "metadata": {},
   "outputs": [],
   "source": [
    "from superneuroabm.model import NeuromorphicModel"
   ]
  },
  {
   "cell_type": "markdown",
   "id": "8279e1e9-ddb6-45db-b428-2963b64d89ea",
   "metadata": {},
   "source": [
    "<div>\n",
    "    <img src=\"img/neuralnetworkarchitecture.png\" width=\"500\" alt=\"SNN architecture\" />\n",
    "</div>"
   ]
  },
  {
   "cell_type": "code",
   "execution_count": 3,
   "id": "366e4546",
   "metadata": {},
   "outputs": [
    {
     "name": "stdout",
     "output_type": "stream",
     "text": [
      "{'input': 0, 'hidden': 1, 'output': 2}\n"
     ]
    }
   ],
   "source": [
    "# Configure the simulation parameters:\n",
    "sim_time = 100\n",
    "neuron_threshold = 1.0\n",
    "neuron_reset = -1.0\n",
    "neuron_refractory = 1.0\n",
    "\n",
    "\n",
    "snn_model = NeuromorphicModel(use_cuda=False)\n",
    "\n",
    "neurons = {\"input\": None, \"hidden\": None, \"output\": None}\n",
    "\n",
    "for neuron_name in neurons.keys():\n",
    "    neurons[neuron_name] = snn_model.create_neuron(\n",
    "        threshold=neuron_threshold,\n",
    "        reset_state=neuron_reset,\n",
    "        refractory_period=neuron_refractory,\n",
    "    )\n",
    "\n",
    "print(neurons)"
   ]
  },
  {
   "cell_type": "code",
   "execution_count": 4,
   "id": "3e7f7ea9-5f17-4ab2-97f4-6c57c041832b",
   "metadata": {},
   "outputs": [],
   "source": [
    "# Create Synpase:\n",
    "snn_model.create_synapse(neurons[\"input\"], neurons[\"hidden\"], \n",
    "            synaptic_delay = 2,\n",
    "            weight = 4,\n",
    "        )\n",
    "\n",
    "snn_model.create_synapse(neurons[\"hidden\"], neurons[\"output\"],    # TODO: Chathika can you check why the neuron_h spikes are not available at end of simulation\n",
    "            synaptic_delay = 3,                  \n",
    "            weight = 2,\n",
    "        )"
   ]
  },
  {
   "cell_type": "code",
   "execution_count": 5,
   "id": "212b1e09",
   "metadata": {},
   "outputs": [
    {
     "name": "stderr",
     "output_type": "stream",
     "text": [
      "Simulation Progress: 100%|██████████████████████████████████████████████████████████| 100/100 [00:00<00:00, 2.88kTick/s]\n"
     ]
    }
   ],
   "source": [
    "# Apply Spikes:\n",
    "snn_model.spike(neurons[\"input\"], 0, 2)    # (node_id, spike_time, spike_value)\n",
    "snn_model.spike(neurons[\"input\"], 10, 4)\n",
    "\n",
    "# Add the input spikes to the common list:\n",
    "network_spikes = []\n",
    "network_spikes.append([0, 10])\n",
    "\n",
    "# Setup the model\n",
    "snn_model.setup()\n",
    "\n",
    "#Begin simulation:\n",
    "snn_model.simulate(ticks=sim_time, update_data_ticks=1)"
   ]
  },
  {
   "cell_type": "code",
   "execution_count": 6,
   "id": "7d3c148b",
   "metadata": {},
   "outputs": [
    {
     "name": "stdout",
     "output_type": "stream",
     "text": [
      "0 1 2\n"
     ]
    }
   ],
   "source": [
    "# Monitor the output spikes from all neurons:\n",
    "in_spikes = snn_model.get_spikes(neurons[\"input\"])\n",
    "h_spikes = snn_model.get_spikes(neurons[\"hidden\"])\n",
    "out_spikes = snn_model.get_spikes(neurons[\"output\"])\n",
    "\n",
    "print(neurons[\"input\"], neurons[\"hidden\"], neurons[\"output\"])"
   ]
  },
  {
   "cell_type": "code",
   "execution_count": 7,
   "id": "a9122918",
   "metadata": {},
   "outputs": [
    {
     "data": {
      "image/png": "[encoded data removed]",
      "text/plain": [
       "<Figure size 1000x500 with 1 Axes>"
      ]
     },
     "metadata": {},
     "output_type": "display_data"
    }
   ],
   "source": [
    "# Plot the spike raster:\n",
    "#from superneuroabm.core.agent import *\n",
    "\n",
    "import matplotlib.pyplot as plt\n",
    "\n",
    "for neuron_id in neurons.values():\n",
    "    network_spikes.append(snn_model.get_spikes(neuron_id))\n",
    "\n",
    "colors1 = ['b', 'k', 'k', 'k']  #Input spikes in blue and network spikes in black\n",
    "fig, axs = plt.subplots(1,1,figsize=(10,5))\n",
    "axs.eventplot(network_spikes,colors=colors1,lineoffsets=1,linelengths=0.1,linewidths=2.0)\n",
    "plt.title('Spike Raster')\n",
    "plt.xlabel('Timesteps')\n",
    "plt.ylabel('Neuron index')\n",
    "plt.tight_layout()\n",
    "#plt.gca().invert_yaxis()"
   ]
  },
  {
   "cell_type": "markdown",
   "id": "94f4db35-deb6-4e50-b7ed-d2c5eaf331df",
   "metadata": {},
   "source": [
    "# Agent-Based Modeling and Heterogenous Mechanisms "
   ]
  },
  {
   "cell_type": "markdown",
   "id": "e82616ea-947d-465b-856b-82d8c24f0f7c",
   "metadata": {},
   "source": []
  },
  {
   "cell_type": "markdown",
   "id": "8c33c682-2a66-4e61-95de-7f5ad4ddaf6a",
   "metadata": {},
   "source": [
    "Next, we will modify the network architecture to use two neuron mechanisms instead of one. \n",
    "SuperNeuroABM lets us do this by defining breeds. A dictionary may be passed upon creation of Neuromorphic model whose keys are names of Neuron breeds and values are lists of step functions that the respective breed should execute. Note the step function list should be provided in order of execution. "
   ]
  },
  {
   "cell_type": "markdown",
   "id": "d983cc0f-e776-44a6-8b55-2cec4dbc6d02",
   "metadata": {},
   "source": [
    "The architecture used is displayed in the image below\n",
    "<div>\n",
    "    <img src=\"img/neuralnetworkarchitectureSTDP.png\" width=\"600\" alt=\"SNN architecture with STDP\" />\n",
    "</div>"
   ]
  },
  {
   "cell_type": "markdown",
   "id": "116542d5-ed92-4fb0-b7e2-4d2e544709ce",
   "metadata": {},
   "source": [
    "First, we need to describe our breeds in a dictionary and use it to initialize a new model. We can use predefined step functions that SuperNeuroABM provides for this purpose"
   ]
  },
  {
   "cell_type": "code",
   "execution_count": 8,
   "id": "68e6b881-b4c6-48ab-82ac-dc16938bbf4f",
   "metadata": {},
   "outputs": [],
   "source": [
    "from superneuroabm.neuron import neuron_step_func, synapse_step_func, synapse_with_stdp_step_func\n",
    "\n",
    "neuron_breed_info = {\"LIF\": [neuron_step_func, synapse_step_func], \"LIFForwardSTDP\": [neuron_step_func, synapse_with_stdp_step_func]}\n",
    "multibreed_model = NeuromorphicModel(use_cuda=False, neuron_breed_info=neuron_breed_info)"
   ]
  },
  {
   "cell_type": "markdown",
   "id": "7435fc15-7ff2-4c6c-a96a-919e3e8ee699",
   "metadata": {},
   "source": [
    "Next let's create the three neurons. However, this time we will use the `breed` parameter to specify which breed the Neuron will belong to."
   ]
  },
  {
   "cell_type": "code",
   "execution_count": 9,
   "id": "6f67e421-06fc-4d43-ad56-a5c3cf91aea0",
   "metadata": {},
   "outputs": [],
   "source": [
    " # Create neurons\n",
    "input_0 = multibreed_model.create_neuron(\n",
    "    breed=\"LIF\", threshold=0.0\n",
    ")\n",
    "input_1 = multibreed_model.create_neuron(breed=\"LIFForwardSTDP\", threshold=0.0)\n",
    "output_2 = multibreed_model.create_neuron(breed=\"LIF\", threshold=1.0)\n",
    "\n",
    "# Create synapses\n",
    "multibreed_model.create_synapse(\n",
    "    pre_neuron_id=input_0, post_neuron_id=output_2, weight=4, synaptic_delay = 5,\n",
    ")\n",
    "multibreed_model.create_synapse(\n",
    "    pre_neuron_id=input_1, post_neuron_id=output_2, weight=2, synaptic_delay = 3,\n",
    ")"
   ]
  },
  {
   "cell_type": "markdown",
   "id": "fce7f287-f6f1-4e57-b62a-bc4c0ddfddf5",
   "metadata": {},
   "source": [
    "Next let's add spikes to the model and simulate"
   ]
  },
  {
   "cell_type": "code",
   "execution_count": 10,
   "id": "d945eaca-fb29-4a30-a666-e212b9a095d1",
   "metadata": {},
   "outputs": [],
   "source": [
    "spikes = {\n",
    "    1: [\n",
    "        (input_0, 0),\n",
    "        (input_1, 0),\n",
    "    ],  # Input: (0, 0); Expected output: No spike\n",
    "    3: [\n",
    "        (input_0, 0),\n",
    "        (input_1, 1),\n",
    "    ],  # Input: (0, 1); Expected output: Spike at time 4\n",
    "    5: [\n",
    "        (input_0, 1),\n",
    "        (input_1, 0),\n",
    "    ],  # Input: (1, 0); Expected output: Spike at time 6\n",
    "    7: [\n",
    "        (input_0, 1),\n",
    "        (input_1, 1),\n",
    "    ],  # Input: (1, 1); Expected output: Spike at time 8\n",
    "}\n",
    "expected_times = [8]\n",
    "for time in spikes:\n",
    "    for neuron, value in spikes[time]:\n",
    "        multibreed_model.spike(neuron_id=neuron, tick=time, value=value)\n",
    "\n",
    "# Setup and simulate\n",
    "multibreed_model.setup()"
   ]
  },
  {
   "cell_type": "code",
   "execution_count": 11,
   "id": "ab3fa285-a830-4239-9243-8c1c838b2d18",
   "metadata": {},
   "outputs": [
    {
     "name": "stderr",
     "output_type": "stream",
     "text": [
      "Simulation Progress: 100%|██████████████████████████████████████████████████████████| 100/100 [00:00<00:00, 2.94kTick/s]\n"
     ]
    }
   ],
   "source": [
    "multibreed_model.simulate(ticks=sim_time, update_data_ticks=1)"
   ]
  },
  {
   "cell_type": "code",
   "execution_count": 15,
   "id": "17675e50-d988-4c28-a952-f7ac20f4a885",
   "metadata": {},
   "outputs": [
    {
     "name": "stdout",
     "output_type": "stream",
     "text": [
      "Weight of synapse input 0 -> output 4.0\n",
      "Weight of synapse input 1 -> output 450.97286867893445\n"
     ]
    }
   ],
   "source": [
    "w_input_0_output = multibreed_model.get_synapse_weight(0,2)\n",
    "w_input_1_output = multibreed_model.get_synapse_weight(1,2)\n",
    "\n",
    "print(f\"Weight of synapse input 0 -> output {w_input_0_output}\")\n",
    "print(f\"Weight of synapse input 1 -> output {w_input_1_output}\")"
   ]
  },
  {
   "cell_type": "markdown",
   "id": "90fa82cb-0c6e-41a2-91a4-308ebe9cd13c",
   "metadata": {},
   "source": [
    "Writing your own step functions is out of scope for this tutorial. Examples of what these step functions should look like are provided here: https://github.com/ORNL/superneuroabm/blob/main/superneuroabm/neuron.py"
   ]
  },
  {
   "cell_type": "code",
   "execution_count": null,
   "id": "2ce59756-3ba3-408f-9650-82919316d92d",
   "metadata": {},
   "outputs": [],
   "source": []
  }
 ],
 "metadata": {
  "kernelspec": {
   "display_name": "superneuro_release",
   "language": "python",
   "name": "superneuro_release"
  },
  "language_info": {
   "codemirror_mode": {
    "name": "ipython",
    "version": 3
   },
   "file_extension": ".py",
   "mimetype": "text/x-python",
   "name": "python",
   "nbconvert_exporter": "python",
   "pygments_lexer": "ipython3",
   "version": "3.9.16"
  }
 },
 "nbformat": 4,
 "nbformat_minor": 5
}
